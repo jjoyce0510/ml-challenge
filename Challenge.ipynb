{
 "cells": [
  {
   "cell_type": "code",
   "execution_count": 9,
   "metadata": {},
   "outputs": [],
   "source": [
    "import numpy as np\n",
    "def get_data(f_train, f_test):\n",
    "    train_f = open(f_train, 'r')\n",
    "    test_f = open(f_test, 'r')\n",
    "\n",
    "    train_features = []\n",
    "    train_labels = []\n",
    "\n",
    "    for line in train_f.readlines():\n",
    "        vals = line.split(',')\n",
    "        train_features.append(vals[:-1])\n",
    "        train_labels.append(vals[-1])\n",
    "\n",
    "    test_features = []\n",
    "    test_labels = []\n",
    "\n",
    "    for line in test_f.readlines():\n",
    "        vals = line.split(',')\n",
    "        test_features.append(vals[:-1])\n",
    "        test_labels.append(vals[-1])  \n",
    "    \n",
    "    return np.array(train_features, dtype='float32'), np.array(test_features, dtype='float32'), np.array(train_labels, dtype='float32'), np.array(test_labels, dtype='float32')\n",
    "\n",
    "# classification\n",
    "class_x_train, class_x_test, class_y_train, class_y_test = get_data('class_train.data', 'class_test.data')\n",
    "\n",
    "# regression\n",
    "reg_x_train, reg_x_test, reg_y_train, reg_y_test = get_data('reg_train.data', 'reg_test.data')"
   ]
  },
  {
   "cell_type": "code",
   "execution_count": 10,
   "metadata": {},
   "outputs": [],
   "source": [
    "from sklearn.neural_network import MLPClassifier\n",
    "from sklearn.tree import DecisionTreeClassifier\n",
    "from sklearn.tree import DecisionTreeRegressor\n",
    "from sklearn.linear_model import LinearRegression\n",
    "from sklearn.model_selection import train_test_split, cross_val_score"
   ]
  },
  {
   "cell_type": "code",
   "execution_count": 12,
   "metadata": {},
   "outputs": [
    {
     "name": "stdout",
     "output_type": "stream",
     "text": [
      "Linear Regression Mean Accuracy: 0.72\n",
      "Decision Tree Regression Mean Accuracy: 0.96\n",
      "[79. 92. 94. ... 92. 84. 76.]\n",
      "Neural Network Cross Val Score: 0.79 (+/- 0.10)\n",
      "Decision Tree Accuracy: 0.81 (+/- 0.04)\n",
      "[-1. -1.  1. -1. -1. -1. -1. -1. -1. -1. -1. -1. -1. -1.  1. -1. -1. -1.\n",
      " -1.  1. -1. -1.  1. -1. -1.  1. -1. -1. -1.  1. -1. -1. -1. -1. -1. -1.\n",
      "  1. -1. -1.  1. -1. -1. -1.  1.  1. -1. -1.  1. -1. -1. -1.  1. -1.  1.\n",
      " -1. -1. -1. -1. -1. -1. -1. -1. -1. -1. -1. -1.  1. -1. -1. -1. -1. -1.\n",
      " -1. -1.  1.  1.  1. -1. -1.  1.  1. -1. -1. -1.  1. -1.  1. -1.  1. -1.\n",
      "  1.  1. -1. -1.  1.  1.  1. -1. -1. -1. -1. -1.  1. -1. -1.  1. -1.  1.\n",
      " -1.  1. -1.  1. -1. -1. -1. -1.  1. -1. -1.  1. -1. -1. -1.  1. -1. -1.\n",
      " -1. -1. -1. -1.  1.  1. -1. -1. -1. -1. -1. -1. -1. -1.  1. -1. -1. -1.\n",
      " -1.  1.  1. -1.  1.  1.  1. -1. -1.  1. -1.  1. -1. -1. -1. -1.  1. -1.\n",
      " -1.  1. -1.  1.  1.  1. -1.  1. -1. -1. -1.  1. -1. -1. -1.  1.  1. -1.\n",
      " -1.  1. -1. -1. -1. -1. -1. -1. -1. -1.  1. -1.  1. -1. -1. -1. -1.  1.\n",
      " -1.  1.  1.  1. -1.  1.  1.  1. -1. -1.  1.  1. -1.  1. -1.  1.  1. -1.\n",
      " -1. -1.  1.  1.  1. -1. -1. -1. -1.  1.  1. -1. -1.  1. -1. -1. -1. -1.\n",
      " -1. -1. -1. -1. -1. -1. -1.  1. -1. -1.  1. -1.  1. -1. -1.  1.  1.  1.\n",
      " -1. -1. -1. -1. -1.  1. -1.  1. -1. -1. -1. -1. -1. -1. -1. -1. -1. -1.\n",
      " -1. -1.  1. -1.  1. -1.  1. -1. -1. -1. -1. -1. -1. -1. -1. -1. -1.  1.\n",
      "  1.  1. -1.  1.  1. -1. -1. -1. -1. -1. -1. -1. -1. -1. -1. -1. -1. -1.\n",
      " -1.  1. -1. -1. -1. -1. -1. -1.  1. -1. -1. -1. -1. -1. -1.  1. -1.  1.\n",
      " -1.  1. -1. -1.  1. -1. -1. -1. -1. -1.  1. -1. -1.  1.  1. -1. -1. -1.\n",
      " -1. -1. -1.  1. -1.  1.  1.  1. -1. -1. -1. -1. -1. -1.  1. -1. -1. -1.\n",
      " -1. -1. -1. -1. -1. -1. -1.  1.  1. -1. -1.  1. -1.  1.  1.  1. -1. -1.\n",
      "  1. -1.  1. -1. -1.  1. -1. -1. -1. -1. -1. -1. -1. -1. -1.  1. -1. -1.\n",
      "  1. -1. -1. -1. -1.  1. -1. -1. -1.  1. -1. -1. -1.  1.  1.  1.  1. -1.\n",
      " -1.]\n"
     ]
    }
   ],
   "source": [
    "# create linear regression regressor \n",
    "lr = LinearRegression()\n",
    "lr.fit(reg_x_train, reg_y_train)\n",
    "# validation, use cross_val_score\n",
    "lr_scores = cross_val_score(lr, reg_x_train, y=reg_y_train, cv=10)\n",
    "print (\"Linear Regression Mean Accuracy: %0.2f\" % lr_scores.mean())\n",
    "pred_labels = lr.predict(reg_x_test)\n",
    "\n",
    "# create decision tree regressor \n",
    "dtr = DecisionTreeRegressor()\n",
    "dtr.fit(reg_x_train, reg_y_train)\n",
    "dtr_scores = cross_val_score(dtr, reg_x_train, y=reg_y_train, cv=10)\n",
    "print (\"Decision Tree Regression Mean Accuracy: %0.2f\" % dtr_scores.mean())\n",
    "\n",
    "pred_labels = lr.predict(reg_x_test) if lr_scores.mean() > dtr_scores.mean() else dtr.predict(reg_x_test)\n",
    "print (pred_labels)\n",
    "\n",
    "# create neural network classifier\n",
    "nn_classifier = MLPClassifier()\n",
    "nn_classifier.fit(class_x_train, class_y_train)\n",
    "\n",
    "# create decision tree classifier\n",
    "dt_classifier = DecisionTreeClassifier()\n",
    "dt_classifier.fit(class_x_train, class_y_train)\n",
    "\n",
    "# 10 fold cross validation\n",
    "nn_scores = cross_val_score(nn_classifier, class_x_train, y=class_y_train, cv = 10)\n",
    "print(\"Neural Network Cross Val Score: %0.2f (+/- %0.2f)\" % (nn_scores.mean(), nn_scores.std() * 2))\n",
    "\n",
    "# 10 fold cross validation\n",
    "dt_scores = cross_val_score(dt_classifier, class_x_train, y=class_y_train, cv = 10)\n",
    "print(\"Decision Tree Accuracy: %0.2f (+/- %0.2f)\" % (dt_scores.mean(), dt_scores.std() * 2))\n",
    "\n",
    "if (dt_scores.mean() >= nn_scores.mean()):\n",
    "    model = dt_classifier\n",
    "else:\n",
    "    model = nn_classifier\n",
    "    \n",
    "predicted_labels = model.predict(class_x_test)\n",
    "print(predicted_labels)"
   ]
  },
  {
   "cell_type": "code",
   "execution_count": null,
   "metadata": {},
   "outputs": [],
   "source": []
  }
 ],
 "metadata": {
  "kernelspec": {
   "display_name": "Python 3",
   "language": "python",
   "name": "python3"
  },
  "language_info": {
   "codemirror_mode": {
    "name": "ipython",
    "version": 3
   },
   "file_extension": ".py",
   "mimetype": "text/x-python",
   "name": "python",
   "nbconvert_exporter": "python",
   "pygments_lexer": "ipython3",
   "version": "3.6.4"
  }
 },
 "nbformat": 4,
 "nbformat_minor": 2
}
