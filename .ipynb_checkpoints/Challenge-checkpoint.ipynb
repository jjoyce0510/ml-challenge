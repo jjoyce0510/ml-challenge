{
 "cells": [
  {
   "cell_type": "code",
   "execution_count": 1,
   "metadata": {},
   "outputs": [],
   "source": [
    "def get_data(f_train, f_test):\n",
    "    train_f = open(f_train, 'r')\n",
    "    test_f = open(f_test, 'r')\n",
    "\n",
    "    train_features = []\n",
    "    train_labels = []\n",
    "\n",
    "    for line in train_f.readlines():\n",
    "        vals = line.split(',')\n",
    "        train_features.append(vals[:-1])\n",
    "        train_labels.append(vals[-1])\n",
    "\n",
    "    test_features = []\n",
    "    test_labels = []\n",
    "\n",
    "    for line in test_f.readlines():\n",
    "        vals = line.split(',')\n",
    "        test_features.append(vals[:-1])\n",
    "        test_labels.append(vals[-1])  \n",
    "    \n",
    "    return train_features, test_features, train_labels, test_labels\n",
    "\n",
    "# classification\n",
    "class_x_train, class_x_test, class_y_train, class_y_test = get_data('class_train.data', 'class_test.data')\n",
    "\n",
    "# regression\n",
    "reg_x_train, reg_x_test, reg_y_train, reg_y_test = get_data('reg_train.data', 'reg_test.data')"
   ]
  },
  {
   "cell_type": "code",
   "execution_count": 2,
   "metadata": {},
   "outputs": [],
   "source": [
    "from sklearn.neural_network import MLPClassifier\n",
    "from sklearn.tree import DecisionTreeClassifier\n",
    "from sklearn.tree import DecisionTreeRegressor\n",
    "from sklearn.linear_model import LinearRegression\n",
    "from sklearn.model_selection import train_test_split, cross_val_score"
   ]
  },
  {
   "cell_type": "code",
   "execution_count": 3,
   "metadata": {},
   "outputs": [
    {
     "ename": "NameError",
     "evalue": "name 'x' is not defined",
     "output_type": "error",
     "traceback": [
      "\u001b[0;31m---------------------------------------------------------------------------\u001b[0m",
      "\u001b[0;31mNameError\u001b[0m                                 Traceback (most recent call last)",
      "\u001b[0;32m<ipython-input-3-22b80374401b>\u001b[0m in \u001b[0;36m<module>\u001b[0;34m()\u001b[0m\n\u001b[1;32m      2\u001b[0m \u001b[0mnn_classifier\u001b[0m \u001b[0;34m=\u001b[0m \u001b[0mMLPClassifier\u001b[0m\u001b[0;34m(\u001b[0m\u001b[0;34m)\u001b[0m\u001b[0;34m\u001b[0m\u001b[0m\n\u001b[1;32m      3\u001b[0m \u001b[0;34m\u001b[0m\u001b[0m\n\u001b[0;32m----> 4\u001b[0;31m \u001b[0mnn_scores\u001b[0m \u001b[0;34m=\u001b[0m \u001b[0mcross_val_score\u001b[0m\u001b[0;34m(\u001b[0m\u001b[0mnn_classifier\u001b[0m\u001b[0;34m,\u001b[0m \u001b[0mx\u001b[0m\u001b[0;34m,\u001b[0m \u001b[0my\u001b[0m\u001b[0;34m=\u001b[0m\u001b[0my\u001b[0m\u001b[0;34m,\u001b[0m \u001b[0mcv\u001b[0m \u001b[0;34m=\u001b[0m \u001b[0;36m10\u001b[0m\u001b[0;34m)\u001b[0m\u001b[0;34m\u001b[0m\u001b[0m\n\u001b[0m\u001b[1;32m      5\u001b[0m \u001b[0mprint\u001b[0m\u001b[0;34m(\u001b[0m\u001b[0;34m\"Neural Network Accuracy: %0.2f (+/- %0.2f)\"\u001b[0m \u001b[0;34m%\u001b[0m \u001b[0;34m(\u001b[0m\u001b[0mnn_scores\u001b[0m\u001b[0;34m.\u001b[0m\u001b[0mmean\u001b[0m\u001b[0;34m(\u001b[0m\u001b[0;34m)\u001b[0m\u001b[0;34m,\u001b[0m \u001b[0mnn_scores\u001b[0m\u001b[0;34m.\u001b[0m\u001b[0mstd\u001b[0m\u001b[0;34m(\u001b[0m\u001b[0;34m)\u001b[0m \u001b[0;34m*\u001b[0m \u001b[0;36m2\u001b[0m\u001b[0;34m)\u001b[0m\u001b[0;34m)\u001b[0m\u001b[0;34m\u001b[0m\u001b[0m\n",
      "\u001b[0;31mNameError\u001b[0m: name 'x' is not defined"
     ]
    }
   ],
   "source": [
    "# create neural network classifier\n",
    "nn_classifier = MLPClassifier()\n",
    "\n",
    "nn_scores = cross_val_score(nn_classifier, x, y=y, cv = 10)\n",
    "print(\"Neural Network Accuracy: %0.2f (+/- %0.2f)\" % (nn_scores.mean(), nn_scores.std() * 2))\n",
    "\n",
    "\n",
    "# create linear regression regressor \n",
    "lr = LinearRegression()\n",
    "lr.fit(reg_x_train, reg_y_train)\n",
    "# validation, use cross_val_score\n",
    "cross_val_score()\n",
    "pred_labels = lr.predict(reg_x_test)\n",
    "\n",
    "# create decision tree regressor \n",
    "dtr = DecisionTreeRegressor()\n",
    "dtr.fit(reg_x_train, reg_y_train)\n",
    "cross_val_score()\n",
    "pred_labels = dtr.predict(reg_x_test)\n",
    "print(\"Decision Tree Regressor %0.2f\" % (acc))\n"
   ]
  },
  {
   "cell_type": "code",
   "execution_count": null,
   "metadata": {},
   "outputs": [],
   "source": []
  }
 ],
 "metadata": {
  "kernelspec": {
   "display_name": "Python 3",
   "language": "python",
   "name": "python3"
  },
  "language_info": {
   "codemirror_mode": {
    "name": "ipython",
    "version": 3
   },
   "file_extension": ".py",
   "mimetype": "text/x-python",
   "name": "python",
   "nbconvert_exporter": "python",
   "pygments_lexer": "ipython3",
   "version": "3.6.4"
  }
 },
 "nbformat": 4,
 "nbformat_minor": 2
}
